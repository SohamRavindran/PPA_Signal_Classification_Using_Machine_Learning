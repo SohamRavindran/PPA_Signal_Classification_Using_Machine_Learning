{
 "cells": [
  {
   "cell_type": "code",
   "execution_count": 1,
   "metadata": {},
   "outputs": [],
   "source": [
    "import numpy as np\n",
    "import tensorflow as tf\n",
    "import matplotlib.pyplot as plt\n",
    "from sklearn.cluster import KMeans\n",
    "from sklearn.metrics import silhouette_score\n",
    "import cv2\n",
    "import os, glob, shutil"
   ]
  },
  {
   "cell_type": "code",
   "execution_count": 2,
   "metadata": {},
   "outputs": [],
   "source": [
    "input_dir='D:/New folder/test'\n",
    "glob_dir=input_dir+'/*.JPG'\n",
    "images=[cv2.resize(cv2.imread(file),(224,224)) for file in glob.glob(glob_dir)] # Load the whole 2771 images and resizing to (224,224)\n",
    "paths= [file for file in glob.glob(glob_dir)]\n",
    "images = np.array(np.float32(images).reshape(len(images),-1)/255) #converting it into  numpy array and shaping it to 0-1\n"
   ]
  },
  {
   "cell_type": "code",
   "execution_count": 3,
   "metadata": {},
   "outputs": [],
   "source": [
    "model=tf.keras.applications.MobileNetV2(include_top=False,\n",
    "weights='imagenet', input_shape=(224,224,3))               #Using MobilNetV2 for feature extraction\n",
    "predictions= model.predict(images.reshape(-1,224,224,3))\n",
    "pred_images= predictions.reshape(images.shape[0],-1)"
   ]
  },
  {
   "cell_type": "code",
   "execution_count": 4,
   "metadata": {},
   "outputs": [],
   "source": [
    "k=10                                                          #Using K-means for clustering of images\n",
    "kmodel = KMeans(n_clusters = k, n_jobs=-1, random_state=728)\n",
    "kmodel.fit(pred_images)\n",
    "kpredictions = kmodel.predict(pred_images)\n",
    "shutil.rmtree('D:/New Folder/output')\n",
    "for i in range(k):\n",
    "    os.makedirs(\"D:/New Folder/output/cluster\" + str(i))            #creating the new clustered images in a directory\n",
    "for i in range(len(paths)):\n",
    "    shutil.copy2(paths[i], \"D:/New Folder/output/cluster\"+str(kpredictions[i]))"
   ]
  },
  {
   "cell_type": "code",
   "execution_count": 5,
   "metadata": {},
   "outputs": [],
   "source": [
    "sil = []                                                              #Using Silhoette score for prediction of accurate K value\n",
    "kl = []\n",
    "kmax = 11\n",
    "for k in range(2, kmax+1):\n",
    "    kmeans2 = KMeans(n_clusters = k).fit(pred_images)\n",
    "    labels = kmeans2.labels_\n",
    "    sil.append(silhouette_score(pred_images, labels, metric ='euclidean'))\n",
    "    kl.append(k)"
   ]
  },
  {
   "cell_type": "code",
   "execution_count": 6,
   "metadata": {},
   "outputs": [
    {
     "data": {
      "image/png": "[encoded data removed]",
      "text/plain": [
       "<Figure size 432x288 with 1 Axes>"
      ]
     },
     "metadata": {
      "needs_background": "light"
     },
     "output_type": "display_data"
    }
   ],
   "source": [
    "plt.plot(kl, sil)                                                       #Ploting the Silhoette score\n",
    "plt.ylabel('Silhoutte Score')\n",
    "plt.ylabel('K')\n",
    "plt.show()"
   ]
  },
  {
   "cell_type": "code",
   "execution_count": null,
   "metadata": {},
   "outputs": [],
   "source": []
  }
 ],
 "metadata": {
  "kernelspec": {
   "display_name": "Python 3",
   "language": "python",
   "name": "python3"
  },
  "language_info": {
   "codemirror_mode": {
    "name": "ipython",
    "version": 3
   },
   "file_extension": ".py",
   "mimetype": "text/x-python",
   "name": "python",
   "nbconvert_exporter": "python",
   "pygments_lexer": "ipython3",
   "version": "3.7.6"
  }
 },
 "nbformat": 4,
 "nbformat_minor": 4
}
